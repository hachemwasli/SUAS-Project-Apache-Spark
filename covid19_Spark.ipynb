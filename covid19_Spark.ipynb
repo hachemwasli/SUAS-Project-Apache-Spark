{
 "cells": [
  {
   "cell_type": "markdown",
   "metadata": {},
   "source": [
    "# Main 1 : Covid 19"
   ]
  },
  {
   "cell_type": "markdown",
   "metadata": {},
   "source": [
    "The Evolution Of Covid 19 Active Cases In The World \n",
    "==>> Must Install Spark Environment (Apache Spark - Hadoop - SCala) And Add The Environment Variables (Windows 10)"
   ]
  },
  {
   "cell_type": "code",
   "execution_count": null,
   "metadata": {},
   "outputs": [],
   "source": [
    "\n",
    "from pyspark.sql import HiveContext\n",
    "import pyspark"
   ]
  },
  {
   "cell_type": "code",
   "execution_count": null,
   "metadata": {},
   "outputs": [],
   "source": [
    "from pyspark import SparkContext\n",
    "sc =SparkContext.getOrCreate()"
   ]
  },
  {
   "cell_type": "code",
   "execution_count": null,
   "metadata": {},
   "outputs": [],
   "source": [
    "cv = sc.textFile(\"covid19.csv\")\n",
    "cv.count()"
   ]
  },
  {
   "cell_type": "code",
   "execution_count": null,
   "metadata": {},
   "outputs": [],
   "source": [
    "## fonction\n",
    "def splitter(lineOfText): \n",
    "     words = lineOfText.split(\" \") \n",
    "     return len(words) \n",
    "def aggregate(numWordsLine1, numWordsLineNext): \n",
    "     totalWords = numWordsLine1 + numWordsLineNext \n",
    "     return totalWords"
   ]
  },
  {
   "cell_type": "code",
   "execution_count": null,
   "metadata": {},
   "outputs": [],
   "source": [
    "#Number of words\n",
    "wordperline = cv.map(splitter)\n",
    "totwords = wordperline.reduce(aggregate)\n",
    "totwords"
   ]
  },
  {
   "cell_type": "code",
   "execution_count": null,
   "metadata": {},
   "outputs": [],
   "source": [
    "cv.collect();"
   ]
  },
  {
   "cell_type": "code",
   "execution_count": null,
   "metadata": {},
   "outputs": [],
   "source": [
    "from pyspark.sql import SparkSession\n",
    "spark = SparkSession \\\n",
    "    .builder \\\n",
    "    .appName(\"Python Spark create RDD example\") \\\n",
    "    .config(\"spark.some.config.option\", \"some-value\") \\\n",
    "    .getOrCreate()"
   ]
  },
  {
   "cell_type": "code",
   "execution_count": null,
   "metadata": {},
   "outputs": [],
   "source": [
    "df = spark.read.format('com.databricks.spark.csv').\\\n",
    "                               options(header='true', \\\n",
    "                               inferschema='true').\\\n",
    "                load(\"covid19.csv\")"
   ]
  },
  {
   "cell_type": "code",
   "execution_count": null,
   "metadata": {},
   "outputs": [],
   "source": [
    "#display part of the data \n",
    "df.show(5)"
   ]
  },
  {
   "cell_type": "code",
   "execution_count": null,
   "metadata": {},
   "outputs": [],
   "source": [
    "#display the structure of the data\n",
    "df.printSchema()"
   ]
  },
  {
   "cell_type": "code",
   "execution_count": null,
   "metadata": {},
   "outputs": [],
   "source": [
    "#we filter out the strings containing \"China\".\n",
    "words_filter = cv.filter(lambda x: 'China' in x)\n",
    "filtered = words_filter.collect()\n",
    "\n",
    "print (\"Fitered RDD -> %s\" % (filtered))"
   ]
  },
  {
   "cell_type": "code",
   "execution_count": null,
   "metadata": {},
   "outputs": [],
   "source": [
    "# we form a key value pair and map every string with a value of Tunisia.\n",
    "words_map = cv.map(lambda x: (x, 'Tunisia'))\n",
    "mapping = words_map.collect()\n",
    "print(\"Key value pair -> %s\" % (mapping))"
   ]
  },
  {
   "cell_type": "code",
   "execution_count": null,
   "metadata": {},
   "outputs": [],
   "source": [
    "#we can also check if the RDD is cached or not.\n",
    "caching = cv.persist().is_cached \n",
    "print ( \"Words got chached > %s\" % (caching))"
   ]
  },
  {
   "cell_type": "code",
   "execution_count": null,
   "metadata": {},
   "outputs": [],
   "source": [
    "#we can select and show the rows with select and the names of the features\n",
    "#for example we can show Province compared with Confirmed\n",
    "df.select('Province','Confirmed').show(10)"
   ]
  },
  {
   "cell_type": "code",
   "execution_count": null,
   "metadata": {},
   "outputs": [],
   "source": [
    "#show data sorted by Last Update \n",
    "df.sort(\"Last_Update\",ascending=False).show()\t\t\t"
   ]
  },
  {
   "cell_type": "code",
   "execution_count": null,
   "metadata": {},
   "outputs": [],
   "source": [
    "# Countries With no deaths \n",
    "from pyspark.sql import SQLContext\n",
    "sqlContext = SQLContext(sc)\n",
    "df.registerTempTable(\"Covid19\")\t#save the data as a table\t\n",
    "#display Country last updated at 2020-12-07 05:26:14 where Deaths are null.\n",
    "countries_with_no_deaths= sqlContext.sql(\"SELECT Country FROM Covid19 where Last_Update like '2020-12-07 05:26:14' and  Deaths=0\")\n",
    "countries_with_no_deaths.show(10)"
   ]
  },
  {
   "cell_type": "code",
   "execution_count": null,
   "metadata": {},
   "outputs": [],
   "source": [
    "#Display total Confirmed Cases for each Last_Update Date\n",
    "df_confirmed=sqlContext.sql(\"SELECT Last_Update, SUM(Confirmed) FROM Covid19 GROUP BY Last_Update\").show()"
   ]
  },
  {
   "cell_type": "code",
   "execution_count": null,
   "metadata": {},
   "outputs": [],
   "source": [
    "# Recovered cases statistics \n",
    "df.describe('Recovered').show()\t\t"
   ]
  },
  {
   "cell_type": "code",
   "execution_count": null,
   "metadata": {},
   "outputs": [],
   "source": [
    "# Confirmed cases statistics \n",
    "df.describe('Confirmed').show()\t\t"
   ]
  },
  {
   "cell_type": "code",
   "execution_count": null,
   "metadata": {},
   "outputs": [],
   "source": [
    "# Active case cases statistics \n",
    "df.describe('Active_case').show()\t\t"
   ]
  },
  {
   "cell_type": "code",
   "execution_count": null,
   "metadata": {},
   "outputs": [],
   "source": [
    "# Deaths cases statistics \n",
    "df.describe('Deaths').show()\t\t"
   ]
  },
  {
   "cell_type": "code",
   "execution_count": null,
   "metadata": {},
   "outputs": [],
   "source": [
    "#number of Covid Cases were Deaths > 1050.1350654019202(mean)\n",
    "df.filter(df.Deaths>1050.1350654019202).count()"
   ]
  },
  {
   "cell_type": "code",
   "execution_count": null,
   "metadata": {},
   "outputs": [],
   "source": [
    "#number of Covid Cases were Active Cases > 11230.929632721689(mean)\n",
    "df.filter(df.Confirmed>11230.929632721689).count()"
   ]
  },
  {
   "cell_type": "code",
   "execution_count": null,
   "metadata": {},
   "outputs": [],
   "source": [
    "#Covid Cases were Observation Date is in 2020\n",
    "df.filter(df[\"ObservationDate\"].endswith(\"2020\")).show(10)"
   ]
  },
  {
   "cell_type": "code",
   "execution_count": null,
   "metadata": {},
   "outputs": [],
   "source": [
    "#Covid Cases in Tunisia\n",
    "df.filter(df[\"Country\"].contains(\"Tunisia\")).show(10)"
   ]
  },
  {
   "cell_type": "code",
   "execution_count": null,
   "metadata": {},
   "outputs": [],
   "source": [
    "#Display Covid cases Province where Active_case > mean \n",
    "df1=df.groupby('Province').agg({'Active_case': 'mean'}).show(5)"
   ]
  },
  {
   "cell_type": "code",
   "execution_count": null,
   "metadata": {},
   "outputs": [],
   "source": [
    "#display Covid Cases where Observation Date is \" 12/06/2020\" and Country is \"Tunisia\"\n",
    "df.filter(\"ObservationDate = '12/06/2020'\").filter(\"Country = 'Tunisia'\").show()"
   ]
  },
  {
   "cell_type": "code",
   "execution_count": null,
   "metadata": {},
   "outputs": [],
   "source": [
    "#display Covid Cases where Observation Date is \" 12/06/2020\" and Country is \"Germany\"\n",
    "df.filter(\"ObservationDate = '12/06/2020'\").filter(\"Country = 'Germany'\").show()"
   ]
  },
  {
   "cell_type": "code",
   "execution_count": null,
   "metadata": {},
   "outputs": [],
   "source": [
    "#Top Country with Most Confirmed Cases\n",
    "sqlContext.sql(\"SELECT Province, Country FROM Covid19 order by Confirmed DESC\").show(1)"
   ]
  },
  {
   "cell_type": "code",
   "execution_count": null,
   "metadata": {},
   "outputs": [],
   "source": [
    "#Top Country with Most Active cases\n",
    "sqlContext.sql(\"SELECT Province, Country FROM Covid19 order by Active_case DESC\").show(1)"
   ]
  },
  {
   "cell_type": "code",
   "execution_count": null,
   "metadata": {},
   "outputs": [],
   "source": [
    "#Top Country with Most Active cases\n",
    "sqlContext.sql(\"SELECT Province, Country FROM Covid19 order by Active_case DESC\").show(1)"
   ]
  },
  {
   "cell_type": "code",
   "execution_count": null,
   "metadata": {},
   "outputs": [],
   "source": [
    "#Print Total Confirmed Cases grouped by Countries and order by Active_case\n",
    "sqlContext.sql(\"SELECT Country, SUM(Confirmed) as TotalConfirmed FROM Covid19  GROUP BY Country order by TotalConfirmed DESC\").show()"
   ]
  },
  {
   "cell_type": "code",
   "execution_count": null,
   "metadata": {},
   "outputs": [],
   "source": [
    "#top 5 Province-Country where Confirmed > 2000000\n",
    "sqlContext.sql(\"SELECT  Province,Country,Confirmed from Covid19 where Confirmed>2000000 order by Confirmed  DESC\").show(5)"
   ]
  },
  {
   "cell_type": "code",
   "execution_count": null,
   "metadata": {},
   "outputs": [],
   "source": [
    "#top 5 Province-Country where Deaths > 50000\n",
    "sqlContext.sql(\"SELECT  Province,Country,Deaths from Covid19 where Deaths>50000 order by Deaths DESC\").limit(5).show()"
   ]
  },
  {
   "cell_type": "code",
<<<<<<< HEAD
   "execution_count": null,
=======
   "execution_count": 126,
>>>>>>> cfbff15f01f39eee023c400215e1dbadd63dab58
   "metadata": {},
   "outputs": [],
   "source": [
    "df_cat_sum = df.groupby(\"Country\").agg({'Confirmed': \"sum\"})\n",
    "display(df_cat_sum)"
   ]
  },
  {
   "cell_type": "markdown",
   "metadata": {},
   "source": [
    "#  Charts : Covid19\n"
   ]
  },
  {
   "cell_type": "code",
   "execution_count": null,
   "metadata": {},
   "outputs": [],
   "source": [
    "from IPython.display import display\n",
    "import matplotlib\n",
    "import matplotlib.pyplot as plt\n",
    "%matplotlib inline "
   ]
  },
  {
   "cell_type": "code",
   "execution_count": null,
   "metadata": {},
   "outputs": [],
   "source": [
    "# Evolution of Confirmed cases over time in the world \n",
    "import plotly.express as px\n",
    "import plotly.graph_objects as go\n",
    "sqlContext.registerDataFrameAsTable(df, \"data_table\")\n",
    "\n",
    "df1=sqlContext.sql(\"SELECT * FROM Covid19\")\n",
    "\n",
    "data =df1.toPandas()\n",
    "Data = data[data['ObservationDate'] == max(data['ObservationDate'])].reset_index()\n",
    "Data_world = Data.groupby([\"ObservationDate\"])[[\"Confirmed\",\"Active_case\",\"Recovered\",\"Deaths\"]].sum().reset_index()\n",
    "data_over_time= data.groupby([\"ObservationDate\"])[[\"Confirmed\",\"Active_case\",\"Recovered\",\"Deaths\"]].sum().reset_index().sort_values(\"ObservationDate\",ascending=True).reset_index(drop=True)\n",
    "fig = go.Figure()\n",
    "fig.add_trace(go.Scatter(x=data_over_time.index, y=data_over_time['Confirmed'],\n",
    "                    mode='lines',\n",
    "                    name='Confirmed cases'))\n",
    "\n",
    "\n",
    "fig.update_layout(\n",
    "    title='Evolution of Confirmed cases over time in the word',\n",
    "        template='plotly_white',\n",
    "      yaxis_title=\"Confirmed cases\",\n",
    "    xaxis_title=\"Days\",\n",
    "\n",
    ")\n",
    "\n",
    "fig.show()"
   ]
  },
  {
   "cell_type": "code",
   "execution_count": null,
   "metadata": {},
   "outputs": [],
   "source": [
    "# Evolution of Active cases over time in the world\n",
    "fig = go.Figure()\n",
    "\n",
    "\n",
    "fig.add_trace(go.Scatter(x=data_over_time.index, y=data_over_time['Active_case'],\n",
    "                    mode='lines',marker_color='yellow',\n",
    "                    name='Active cases',line=dict( dash='dot')))\n",
    "\n",
    "fig.update_layout(\n",
    "    title='Evolution of Active cases over time in the world',\n",
    "        template='plotly_dark',\n",
    "      yaxis_title=\"Active cases\",\n",
    "    xaxis_title=\"Days\",\n",
    "\n",
    ")\n",
    "\n",
    "fig.show()"
   ]
  },
  {
   "cell_type": "code",
   "execution_count": null,
   "metadata": {},
   "outputs": [],
   "source": [
    "Data_per_country = Data.groupby([\"Country\"])[\"Confirmed\",\"Active_case\",\"Recovered\",\"Deaths\"].sum().reset_index().sort_values(\"Confirmed\",ascending=False).reset_index(drop=True)\n",
    "headerColor = 'grey'\n",
    "rowEvenColor = 'lightgrey'\n",
    "rowOddColor = 'white'\n",
    "\n",
    "fig = go.Figure(data=[go.Table(\n",
    "  header=dict(\n",
    "    values=['<b>Country</b>','<b>Confirmed Cases</b>'],\n",
    "    line_color='darkslategray',\n",
    "    fill_color=headerColor,\n",
    "    align=['left','center'],\n",
    "      \n",
    "    font=dict(color='white', size=12)\n",
    "  ),\n",
    "  cells=dict(\n",
    "    values=[\n",
    "      Data_per_country['Country'],\n",
    "      Data_per_country['Confirmed'],\n",
    "      ],\n",
    "    line_color='darkslategray',\n",
    "    # 2-D list of colors for alternating rows\n",
    "    fill_color = [[rowOddColor,rowEvenColor,rowOddColor, rowEvenColor,rowOddColor]*len(Data_per_country)],\n",
    "    align = ['left', 'center'],\n",
    "    font = dict(color = 'darkslategray', size = 11)\n",
    "    ))\n",
    "])\n",
    "fig.update_layout(\n",
    "    title='Confirmed Cases In Each Country',\n",
    ")\n",
    "fig.show()"
   ]
  },
  {
   "cell_type": "code",
   "execution_count": null,
   "metadata": {},
   "outputs": [],
   "source": [
    "fig = go.Figure(go.Bar(\n",
    "            x=Data_per_country['Confirmed'],\n",
    "            y=Data_per_country['Country'],\n",
    "            orientation='h'))\n",
    "fig.update_layout(\n",
    "    title='Confirmed Cases In Each Country',\n",
    "    template='plotly_white',\n",
    "     xaxis_title=\"Confirmed Cases\",\n",
    "    yaxis_title=\"Countries\",\n",
    ")\n",
    "fig.show()"
   ]
  },
  {
   "cell_type": "code",
   "execution_count": null,
   "metadata": {},
   "outputs": [],
   "source": [
    "fig = px.choropleth(Data_per_country, locations=Data_per_country['Country'],\n",
    "                    color=Data_per_country['Confirmed'],locationmode='country names', \n",
    "                    hover_name=Data_per_country['Country'], \n",
    "                    color_continuous_scale=px.colors.sequential.Tealgrn,template='plotly_dark', )\n",
    "fig.update_layout(\n",
    "    title='Confirmed Cases In Each Country',\n",
    ")\n",
    "fig.show()"
   ]
  },
  {
   "cell_type": "code",
   "execution_count": null,
   "metadata": {},
   "outputs": [],
   "source": [
    "fig = px.choropleth(Data_per_country, locations=Data_per_country['Country'],\n",
    "                    color=Data_per_country['Active_case'],locationmode='country names', \n",
    "                    hover_name=Data_per_country['Country'], \n",
    "                    color_continuous_scale=px.colors.sequential.Tealgrn,template='plotly_white', )\n",
    "fig.update_layout(\n",
    "    title='Active Cases In Each Country',\n",
    ")\n",
    "fig.show()"
   ]
  },
  {
   "cell_type": "code",
   "execution_count": null,
   "metadata": {},
   "outputs": [],
   "source": [
    "fig = go.Figure(data=[go.Bar(\n",
    "            x=Data_per_country['Country'][0:10], y=Data_per_country['Confirmed'][0:10],\n",
    "            text=Data_per_country['Confirmed'][0:10],\n",
    "            textposition='auto',\n",
    "            marker_color='black',\n",
    "            \n",
    "\n",
    "        )])\n",
    "fig.update_layout(\n",
    "    title='Most 10 infected Countries',\n",
    "    xaxis_title=\"Countries\",\n",
    "    yaxis_title=\"Confirmed Cases\",\n",
    "        template='plotly_white'\n",
    "\n",
    ")\n",
    "fig.show()"
   ]
  },
  {
   "cell_type": "code",
   "execution_count": null,
   "metadata": {},
   "outputs": [],
   "source": [
    "import numpy as np \n",
    "\n",
    "fig = go.Figure(data=[go.Scatter(\n",
    "    x=Data_per_country['Country'][0:10],\n",
    "    y=Data_per_country['Confirmed'][0:10],\n",
    "    mode='markers',\n",
    "    \n",
    "    marker=dict(\n",
    "        color=100+np.random.randn(500),\n",
    "        size=(Data_per_country['Confirmed'][0:10]/25000),\n",
    "        showscale=True\n",
    "        )\n",
    ")])\n",
    "\n",
    "fig.update_layout(\n",
    "    title='Most 10 infected Countries',\n",
    "    xaxis_title=\"Countries\",\n",
    "    yaxis_title=\"Confirmed Cases\",\n",
    "    template='plotly_dark'\n",
    ")\n",
    "fig.show()"
   ]
  },
  {
   "cell_type": "markdown",
   "metadata": {},
   "source": [
    "# Coronavirus in my country Tunisia"
   ]
  },
  {
   "cell_type": "code",
   "execution_count": null,
   "metadata": {},
   "outputs": [],
   "source": [
    "Data_tunisia = data [(data['Country'] == 'Tunisia') ].reset_index(drop=True)\n",
    "Data_tunisia.head()"
   ]
  },
  {
   "cell_type": "code",
   "execution_count": null,
   "metadata": {},
   "outputs": [],
   "source": [
    "fig = go.Figure()\n",
    "fig.add_trace(go.Scatter(x=Data_tunisia['ObservationDate'], y=Data_tunisia['Confirmed'],\n",
    "                    mode='lines',\n",
    "                    name='Confirmed cases'))\n",
    "\n",
    "fig.add_trace(go.Scatter(x=Data_tunisia['ObservationDate'], y=Data_tunisia['Active_case'],\n",
    "                    mode='lines',\n",
    "                    name='Active cases',line=dict( dash='dot')))\n",
    "fig.add_trace(go.Scatter(x=Data_tunisia['ObservationDate'], y=Data_tunisia['Deaths'],name='Deaths',\n",
    "                                   marker_color='black',mode='lines',line=dict( dash='dot') ))\n",
    "fig.add_trace(go.Scatter(x=Data_tunisia['ObservationDate'], y=Data_tunisia['Recovered'],\n",
    "                    mode='lines',\n",
    "                    name='Recovered cases',marker_color='green'))\n",
    "fig.update_layout(\n",
    "    title='Evolution of cases over time in Tunisia',\n",
    "        template='plotly_white'\n",
    "\n",
    ")\n",
    "\n",
    "fig.show()"
   ]
  },
  {
   "cell_type": "code",
   "execution_count": null,
   "metadata": {},
   "outputs": [],
   "source": [
    "fig = go.Figure(go.Bar(\n",
    "            x=Data_tunisia['ObservationDate'],\n",
    "            y=Data_tunisia['Active_case'],\n",
    "    marker_color='rgb(13,48,100)'\n",
    "           ))\n",
    "fig.update_layout(\n",
    "    title='Active cases In Each Day',\n",
    "    template='plotly_white',\n",
    "     xaxis_title=\"Active cases\",\n",
    "    yaxis_title=\"Days\",\n",
    ")\n",
    "fig.show()"
   ]
  },
  {
   "cell_type": "markdown",
   "metadata": {},
   "source": [
    "# Comparisons between countries"
   ]
  },
  {
   "cell_type": "code",
   "execution_count": null,
   "metadata": {},
   "outputs": [],
   "source": [
    "import datetime\n",
    "# Get data in Germany and Iran\n",
    "Data_Ger = data [(data['Country'] == 'Germany') ].reset_index(drop=True)\n",
    "Data_Iran = data [(data['Country'] == 'Iran') ].reset_index(drop=True)\n",
    "Data_Spain = data [(data['Country'] == 'Spain') ].reset_index(drop=True)\n",
    "Data_Italy = data [(data['Country'] == 'Italy') ].reset_index(drop=True)\n",
    "# Get date after Three weeks from the first coronavirus case.\n",
    "def getDate(date,weeks):\n",
    "\n",
    "    datein = datetime.datetime.strptime(date, \"%m/%d/%Y\")\n",
    "    threeWeeks = datetime.timedelta(weeks =weeks)\n",
    "    datefinal = (datein + threeWeeks)\n",
    "    \n",
    "    return(datefinal.strftime('%m/%d/%Y'))\n",
    "# Get Cases in Tunisia, Italy, Spain and Germany after 2 weeks.\n",
    "Data_tunisia_after_twoweeks = Data_tunisia[ Data_tunisia['ObservationDate'] < getDate(min(Data_tunisia['ObservationDate']),2) ].reset_index()\n",
    "Data_italy_after_twoweeks = Data_Italy[Data_Italy['ObservationDate'] < getDate(min(Data_Italy['ObservationDate']),2) ].reset_index()\n",
    "Data_spain_after_twoweeks = Data_Spain[Data_Spain['ObservationDate'] < getDate(min(Data_Spain['ObservationDate']),2) ].reset_index()\n",
    "Data_germany_after_twoweeks = Data_Ger[Data_Ger['ObservationDate'] < getDate(min(Data_Ger['ObservationDate']),2) ].reset_index()"
   ]
  },
  {
   "cell_type": "code",
   "execution_count": null,
   "metadata": {},
   "outputs": [],
   "source": [
    "from plotly.subplots import make_subplots\n",
    "fig = make_subplots(rows=2, cols=2,\n",
    "                    specs=[[{\"secondary_y\": True}, {\"secondary_y\": True}],\n",
    "                           [{\"secondary_y\": True}, {\"secondary_y\": True}]],\n",
    "                   subplot_titles=(\"Tunisia : \"+str(Data_tunisia_after_twoweeks['Confirmed'].max()),\n",
    "                                   \" Italy : \"+ str(Data_italy_after_twoweeks['Confirmed'].max()),\n",
    "                                   \"  Spain : \"+ str(Data_spain_after_twoweeks['Confirmed'].max()),\n",
    "                                   \" Germany : \"+ str(Data_germany_after_twoweeks['Confirmed'].max())\n",
    "                                  ))\n",
    "\n",
    "# Top left\n",
    "fig.add_trace(\n",
    "    go.Scatter(x=list(range(1,len(Data_tunisia_after_twoweeks)+1)), y=Data_tunisia_after_twoweeks['Confirmed'], \n",
    "                name=\"Confirmed Cases In Tunisia\"),row=1, col=1, secondary_y=False)\n",
    "\n",
    "\n",
    "# Top right\n",
    "fig.add_trace(\n",
    "    go.Scatter(x=list(range(1,len(Data_italy_after_twoweeks)+1)), y=Data_italy_after_twoweeks['Confirmed'], \n",
    "               name=\"Confirmed Cases In Italy\"), row=1, col=2, secondary_y=False,\n",
    ")\n",
    "\n",
    "# Bottom left\n",
    "fig.add_trace(\n",
    "    go.Scatter(x=list(range(1,len(Data_spain_after_twoweeks)+1)), y=Data_spain_after_twoweeks['Confirmed'], \n",
    "               name=\"Confirmed Cases In Spain\"),row=2, col=1, secondary_y=False,\n",
    ")\n",
    "\n",
    "\n",
    "# Bottom right\n",
    "fig.add_trace(\n",
    "    go.Scatter(x=list(range(1,len(Data_germany_after_twoweeks)+1)), y=Data_germany_after_twoweeks['Confirmed'], \n",
    "               name=\"Confirmed Cases In Germany\"),row=2, col=2, secondary_y=False,\n",
    ")\n",
    "# Update xaxis properties\n",
    "fig.update_xaxes(title_text=\"Days\")\n",
    "fig.update_xaxes(title_text=\"Days\")\n",
    "fig.update_xaxes(title_text=\"Days\")\n",
    "fig.update_xaxes(title_text=\"Days\")\n",
    "\n",
    "# Update yaxis properties\n",
    "fig.update_yaxes(title_text=\"Confirmed Cases\")\n",
    "fig.update_yaxes(title_text=\"Confirmed Cases\")\n",
    "fig.update_yaxes(title_text=\"Confirmed Cases\")\n",
    "fig.update_yaxes(title_text=\"Confirmed Cases\")\n",
    "\n",
    "fig.update_layout(\n",
    "    title_text=\"Corona virus confirmed cases per country for the first two weeks\",\n",
    "    width=800,\n",
    ")\n",
    "\n",
    "fig.show()"
   ]
  },
  {
   "cell_type": "code",
   "execution_count": null,
   "metadata": {},
   "outputs": [],
   "source": [
    "# Get Cases in Iran, Italy, Spain and Germany after 4 weeks.\n",
    "Data_iran_after_fourweeks = Data_Iran[ Data_Iran['ObservationDate'] < getDate(min(Data_Iran['ObservationDate']),4) ].reset_index()\n",
    "Data_italy_after_fourweeks = Data_Italy[Data_Italy['ObservationDate'] < getDate(min(Data_Italy['ObservationDate']),4) ].reset_index()\n",
    "Data_spain_after_fourweeks = Data_Spain[Data_Spain['ObservationDate'] < getDate(min(Data_Spain['ObservationDate']),4) ].reset_index()\n",
    "Data_germany_after_fourweeks = Data_Ger[Data_Ger['ObservationDate'] < getDate(min(Data_Ger['ObservationDate']),4) ].reset_index()"
   ]
  },
  {
   "cell_type": "code",
   "execution_count": null,
   "metadata": {},
   "outputs": [],
   "source": [
    "fig = make_subplots(rows=2, cols=2,\n",
    "                    specs=[[{\"secondary_y\": True}, {\"secondary_y\": True}],\n",
    "                           [{\"secondary_y\": True}, {\"secondary_y\": True}]],\n",
    "                   subplot_titles=(\"Iran : \"+str(Data_iran_after_fourweeks['Confirmed'].max()),\n",
    "                                   \" Italy : \"+ str(Data_italy_after_fourweeks['Confirmed'].max()),\n",
    "                                   \"  Spain : \"+ str(Data_spain_after_fourweeks['Confirmed'].max()),\n",
    "                                   \" Germany : \"+ str(Data_germany_after_fourweeks['Confirmed'].max())\n",
    "                                  ))\n",
    "\n",
    "# Top left\n",
    "fig.add_trace(\n",
    "    go.Scatter(x=list(range(1,len(Data_iran_after_fourweeks)+1)), y=Data_iran_after_fourweeks['Confirmed'], \n",
    "                name=\"Confirmed Cases In Iran\"),row=1, col=1, secondary_y=False)\n",
    "\n",
    "\n",
    "# Top right\n",
    "fig.add_trace(\n",
    "    go.Scatter(x=list(range(1,len(Data_italy_after_fourweeks)+1)), y=Data_italy_after_fourweeks['Confirmed'], \n",
    "               name=\"Confirmed Cases In Italy\"), row=1, col=2, secondary_y=False,\n",
    ")\n",
    "\n",
    "# Bottom left\n",
    "fig.add_trace(\n",
    "    go.Scatter(x=list(range(1,len(Data_spain_after_fourweeks)+1)), y=Data_spain_after_fourweeks['Confirmed'], \n",
    "               name=\"Confirmed Cases In Spain\"),row=2, col=1, secondary_y=False,\n",
    ")\n",
    "\n",
    "\n",
    "# Bottom right\n",
    "fig.add_trace(\n",
    "    go.Scatter(x=list(range(1,len(Data_germany_after_fourweeks)+1)), y=Data_germany_after_fourweeks['Confirmed'], \n",
    "               name=\"Confirmed Cases In Germany\"),row=2, col=2, secondary_y=False,\n",
    ")\n",
    "# Update xaxis properties\n",
    "fig.update_xaxes(title_text=\"Days\",range=[0,30])\n",
    "fig.update_xaxes(title_text=\"Days\")\n",
    "fig.update_xaxes(title_text=\"Days\")\n",
    "fig.update_xaxes(title_text=\"Days\")\n",
    "\n",
    "# Update yaxis properties\n",
    "fig.update_yaxes(title_text=\"Confirmed Cases\")\n",
    "fig.update_yaxes(title_text=\"Confirmed Cases\")\n",
    "fig.update_yaxes(title_text=\"Confirmed Cases\")\n",
    "fig.update_yaxes(title_text=\"Confirmed Cases\")\n",
    "\n",
    "fig.update_layout(\n",
    "    title_text=\"Corona virus confirmed cases per country for the first month\",\n",
    "    width=800,\n",
    ")\n",
    "\n",
    "fig.show()"
   ]
  },
  {
   "cell_type": "code",
   "execution_count": null,
   "metadata": {},
   "outputs": [],
   "source": [
    "# Get Cases in Italy, Germany and Spain after 6 weeks\n",
    "Data_italy_after_sixweeks = Data_Italy[Data_Italy['ObservationDate'] < getDate(min(Data_Italy['ObservationDate']),6) ].reset_index()\n",
    "Data_spain_after_sixweeks = Data_Spain[Data_Spain['ObservationDate'] < getDate(min(Data_Spain['ObservationDate']),6) ].reset_index()\n",
    "Data_germany_after_sixweeks = Data_Ger[Data_Ger['ObservationDate'] < getDate(min(Data_Ger['ObservationDate']),6) ].reset_index()"
   ]
  },
  {
   "cell_type": "code",
   "execution_count": null,
   "metadata": {},
   "outputs": [],
   "source": [
    "fig = make_subplots(rows=1, cols=2,\n",
    "                    specs=[[{\"secondary_y\": True}, {\"secondary_y\": True}]],\n",
    "                   subplot_titles=(\n",
    "                                   \" Italy : \"+ str(Data_italy_after_sixweeks['Confirmed'].max()),\n",
    "                                   \"  Spain : \"+ str(Data_spain_after_sixweeks['Confirmed'].max())\n",
    "                                  ))\n",
    "\n",
    "\n",
    "fig.add_trace(\n",
    "    go.Scatter(x=list(range(1,len(Data_italy_after_sixweeks)+1)), y=Data_italy_after_sixweeks['Confirmed'], \n",
    "               name=\"Confirmed Cases In Italy\"), row=1, col=1, secondary_y=False,\n",
    ")\n",
    "\n",
    "fig.add_trace(\n",
    "    go.Scatter(x=list(range(1,len(Data_spain_after_sixweeks)+1)), y=Data_spain_after_sixweeks['Confirmed'], \n",
    "               name=\"Confirmed Cases In Spain\"),row=1, col=2, secondary_y=False,\n",
    ")\n",
    "\n",
    "\n",
    "\n",
    "# Update xaxis properties\n",
    "fig.update_xaxes(title_text=\"Days\",range=[0,45])\n",
    "fig.update_xaxes(title_text=\"Days\")\n",
    "\n",
    "# Update yaxis properties\n",
    "fig.update_yaxes(title_text=\"Confirmed Cases\")\n",
    "fig.update_yaxes(title_text=\"Confirmed Cases\")\n",
    "\n",
    "fig.update_layout(\n",
    "    title_text=\"Corona virus confirmed cases per country for the first six weeks\",\n",
    "    width=800,\n",
    ")\n",
    "\n",
    "fig.show()"
   ]
  },
  {
   "cell_type": "code",
   "execution_count": null,
   "metadata": {},
   "outputs": [],
   "source": []
  },
  {
   "cell_type": "code",
   "execution_count": null,
   "metadata": {},
   "outputs": [],
   "source": []
  },
  {
   "cell_type": "code",
   "execution_count": null,
   "metadata": {},
   "outputs": [],
   "source": []
  },
  {
   "cell_type": "code",
   "execution_count": null,
   "metadata": {},
   "outputs": [],
   "source": []
  },
  {
   "cell_type": "code",
   "execution_count": null,
   "metadata": {},
   "outputs": [],
   "source": []
  },
  {
   "cell_type": "code",
   "execution_count": null,
   "metadata": {},
   "outputs": [],
   "source": []
  },
  {
   "cell_type": "code",
   "execution_count": null,
   "metadata": {},
   "outputs": [],
   "source": []
  },
  {
   "cell_type": "code",
   "execution_count": null,
   "metadata": {},
   "outputs": [],
   "source": []
  },
  {
   "cell_type": "code",
   "execution_count": null,
   "metadata": {},
   "outputs": [],
   "source": []
  },
  {
   "cell_type": "code",
   "execution_count": null,
   "metadata": {},
   "outputs": [],
   "source": []
  },
  {
   "cell_type": "code",
   "execution_count": null,
   "metadata": {},
   "outputs": [],
   "source": []
  },
  {
   "cell_type": "code",
   "execution_count": null,
   "metadata": {},
   "outputs": [],
   "source": []
  }
 ],
 "metadata": {
  "kernelspec": {
   "display_name": "Python 3",
   "language": "python",
   "name": "python3"
  },
  "language_info": {
   "codemirror_mode": {
    "name": "ipython",
    "version": 3
   },
   "file_extension": ".py",
   "mimetype": "text/x-python",
   "name": "python",
   "nbconvert_exporter": "python",
   "pygments_lexer": "ipython3",
   "version": "3.8.3"
  }
 },
 "nbformat": 4,
 "nbformat_minor": 4
}

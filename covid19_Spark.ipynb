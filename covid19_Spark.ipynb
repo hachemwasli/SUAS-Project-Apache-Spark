{
 "cells": [
  {
   "cell_type": "markdown",
   "metadata": {},
   "source": [
    "# Main 1 : Covid 19"
   ]
  },
  {
   "cell_type": "markdown",
   "metadata": {},
   "source": [
    "The Evolution Of Covid 19 Active Cases In The World \n",
    "==>> Must Install Spark Environment (Apache Spark - Hadoop - SCala) And Add The Environment Variables (Windows 10)"
   ]
  },
  {
   "cell_type": "code",
   "execution_count": 2,
   "metadata": {},
   "outputs": [],
   "source": [
    "from pyspark.sql import HiveContext\n",
    "import pyspark\n",
    "from IPython.display import display\n",
    "import matplotlib\n",
    "import matplotlib.pyplot as plt\n",
    "%matplotlib inline "
   ]
  },
  {
   "cell_type": "code",
   "execution_count": null,
   "metadata": {},
   "outputs": [],
   "source": [
    "from pyspark import SparkContext\n",
    "sc =SparkContext.getOrCreate()"
   ]
  },
  {
   "cell_type": "code",
   "execution_count": null,
   "metadata": {},
   "outputs": [],
   "source": [
    "cv = sc.textFile(\"covid19.csv\")\n",
    "cv.count()"
   ]
  },
  {
   "cell_type": "code",
   "execution_count": null,
   "metadata": {},
   "outputs": [],
   "source": [
    "## fonction\n",
    "def splitter(lineOfText): \n",
    "     words = lineOfText.split(\" \") \n",
    "     return len(words) \n",
    "def aggregate(numWordsLine1, numWordsLineNext): \n",
    "     totalWords = numWordsLine1 + numWordsLineNext \n",
    "     return totalWords"
   ]
  },
  {
   "cell_type": "code",
   "execution_count": null,
   "metadata": {},
   "outputs": [],
   "source": [
    "#Number of words\n",
    "wordperline = cv.map(splitter)\n",
    "totwords = wordperline.reduce(aggregate)\n",
    "totwords"
   ]
  },
  {
   "cell_type": "code",
   "execution_count": null,
   "metadata": {},
   "outputs": [],
   "source": [
    "cv.collect();"
   ]
  },
  {
   "cell_type": "code",
   "execution_count": null,
   "metadata": {},
   "outputs": [],
   "source": [
    "from pyspark.sql import SparkSession\n",
    "spark = SparkSession \\\n",
    "    .builder \\\n",
    "    .appName(\"Python Spark create RDD example\") \\\n",
    "    .config(\"spark.some.config.option\", \"some-value\") \\\n",
    "    .getOrCreate()"
   ]
  },
  {
   "cell_type": "code",
   "execution_count": null,
   "metadata": {},
   "outputs": [],
   "source": [
    "df = spark.read.format('com.databricks.spark.csv').\\\n",
    "                               options(header='true', \\\n",
    "                               inferschema='true').\\\n",
    "                load(\"covid19.csv\")"
   ]
  },
  {
   "cell_type": "code",
   "execution_count": null,
   "metadata": {},
   "outputs": [],
   "source": [
    "#display part of the data \n",
    "df.show(5)"
   ]
  },
  {
   "cell_type": "code",
   "execution_count": null,
   "metadata": {},
   "outputs": [],
   "source": [
    "#display the structure of the data\n",
    "df.printSchema()"
   ]
  },
  {
   "cell_type": "code",
   "execution_count": 3,
   "metadata": {},
   "outputs": [
    {
     "ename": "NameError",
     "evalue": "name 'cv' is not defined",
     "output_type": "error",
     "traceback": [
      "\u001b[1;31m---------------------------------------------------------------------------\u001b[0m",
      "\u001b[1;31mNameError\u001b[0m                                 Traceback (most recent call last)",
      "\u001b[1;32m<ipython-input-3-5d622c551ec4>\u001b[0m in \u001b[0;36m<module>\u001b[1;34m\u001b[0m\n\u001b[0;32m      1\u001b[0m \u001b[1;31m#we filter out the strings containing \"China\".\u001b[0m\u001b[1;33m\u001b[0m\u001b[1;33m\u001b[0m\u001b[1;33m\u001b[0m\u001b[0m\n\u001b[1;32m----> 2\u001b[1;33m \u001b[0mwords_filter\u001b[0m \u001b[1;33m=\u001b[0m \u001b[0mcv\u001b[0m\u001b[1;33m.\u001b[0m\u001b[0mfilter\u001b[0m\u001b[1;33m(\u001b[0m\u001b[1;32mlambda\u001b[0m \u001b[0mx\u001b[0m\u001b[1;33m:\u001b[0m \u001b[1;34m'China'\u001b[0m \u001b[1;32min\u001b[0m \u001b[0mx\u001b[0m\u001b[1;33m)\u001b[0m\u001b[1;33m\u001b[0m\u001b[1;33m\u001b[0m\u001b[0m\n\u001b[0m\u001b[0;32m      3\u001b[0m \u001b[0mfiltered\u001b[0m \u001b[1;33m=\u001b[0m \u001b[0mwords_filter\u001b[0m\u001b[1;33m.\u001b[0m\u001b[0mcollect\u001b[0m\u001b[1;33m(\u001b[0m\u001b[1;33m)\u001b[0m\u001b[1;33m\u001b[0m\u001b[1;33m\u001b[0m\u001b[0m\n\u001b[0;32m      4\u001b[0m \u001b[1;33m\u001b[0m\u001b[0m\n\u001b[0;32m      5\u001b[0m \u001b[0mprint\u001b[0m \u001b[1;33m(\u001b[0m\u001b[1;34m\"Fitered RDD -> %s\"\u001b[0m \u001b[1;33m%\u001b[0m \u001b[1;33m(\u001b[0m\u001b[0mfiltered\u001b[0m\u001b[1;33m)\u001b[0m\u001b[1;33m)\u001b[0m\u001b[1;33m\u001b[0m\u001b[1;33m\u001b[0m\u001b[0m\n",
      "\u001b[1;31mNameError\u001b[0m: name 'cv' is not defined"
     ]
    }
   ],
   "source": [
    "#we filter out the strings containing \"China\".\n",
    "words_filter = cv.filter(lambda x: 'China' in x)\n",
    "filtered = words_filter.collect()\n",
    "\n",
    "print (\"Fitered RDD -> %s\" % (filtered))"
   ]
  },
  {
   "cell_type": "code",
   "execution_count": null,
   "metadata": {},
   "outputs": [],
   "source": [
    "# we form a key value pair and map every string with a value of Tunisia.\n",
    "words_map = cv.map(lambda x: (x, 'Tunisia'))\n",
    "mapping = words_map.collect()\n",
    "print(\"Key value pair -> %s\" % (mapping))"
   ]
  },
  {
   "cell_type": "code",
   "execution_count": null,
   "metadata": {},
   "outputs": [],
   "source": [
    "#we can also check if the RDD is cached or not.\n",
    "caching = cv.persist().is_cached \n",
    "print ( \"Words got chached > %s\" % (caching))"
   ]
  },
  {
   "cell_type": "code",
   "execution_count": null,
   "metadata": {},
   "outputs": [],
   "source": [
    "#we can select and show the rows with select and the names of the features\n",
    "#for example we can show Province compared with Confirmed\n",
    "df.select('Province','Confirmed').show(10)"
   ]
  },
  {
   "cell_type": "code",
   "execution_count": null,
   "metadata": {},
   "outputs": [],
   "source": [
    "#show data sorted by Last Update \n",
    "df.sort(\"Last_Update\",ascending=False).show()\t\t\t"
   ]
  },
  {
   "cell_type": "code",
   "execution_count": 16,
   "metadata": {},
   "outputs": [
    {
     "name": "stdout",
     "output_type": "stream",
     "text": [
      "+--------------------+\n",
      "|             Country|\n",
      "+--------------------+\n",
      "|              Bhutan|\n",
      "|            Cambodia|\n",
      "|            Dominica|\n",
      "|             Eritrea|\n",
      "|             Grenada|\n",
      "|            Holy See|\n",
      "|                Laos|\n",
      "|    Marshall Islands|\n",
      "|            Mongolia|\n",
      "|Saint Kitts and N...|\n",
      "+--------------------+\n",
      "only showing top 10 rows\n",
      "\n"
     ]
    }
   ],
   "source": [
    "# Countries With no deaths \n",
    "from pyspark.sql import SQLContext\n",
    "sqlContext = SQLContext(sc)\n",
    "df.registerTempTable(\"Covid19\")\t#save the data as a table\t\n",
    "#display Country last updated at 2020-12-07 05:26:14 where Deaths are null.\n",
    "countries_with_no_deaths= sqlContext.sql(\"SELECT Country FROM Covid19 where Last_Update like '2020-12-07 05:26:14' and  Deaths=0\")\n",
    "countries_with_no_deaths.show(10)"
   ]
  },
  {
   "cell_type": "code",
   "execution_count": 17,
   "metadata": {},
   "outputs": [
    {
     "name": "stdout",
     "output_type": "stream",
     "text": [
      "+-------------------+--------------+\n",
      "|        Last_Update|sum(Confirmed)|\n",
      "+-------------------+--------------+\n",
      "|2020-02-10T13:23:06|           213|\n",
      "|2020-02-10T19:03:02|            61|\n",
      "|2020-02-21T13:03:09|         62662|\n",
      "|2020-03-08T06:53:04|           935|\n",
      "|2020-03-15T06:53:03|            66|\n",
      "|2020-08-16 04:27:42|      21478626|\n",
      "|2020-02-11T09:23:04|           153|\n",
      "|2020-02-17T15:43:02|            44|\n",
      "|2020-02-20T23:13:05|           941|\n",
      "|2020-02-25T02:23:05|            14|\n",
      "|2020-02-26T23:53:01|           337|\n",
      "|2020-03-02T22:33:09|            59|\n",
      "|2020-03-07T17:53:03|           787|\n",
      "|2020-03-08T19:53:03|           182|\n",
      "|2020-03-09T10:53:03|          7161|\n",
      "|2020-03-16T14:38:45|        104872|\n",
      "|2020-03-20T21:13:29|           565|\n",
      "|2020-09-09 04:28:48|      27603671|\n",
      "|2020-02-02T00:43:02|            21|\n",
      "|2020-02-03T23:13:11|            74|\n",
      "+-------------------+--------------+\n",
      "only showing top 20 rows\n",
      "\n"
     ]
    }
   ],
   "source": [
    "#Display total Confirmed Cases for each Last_Update Date\n",
    "df_confirmed=sqlContext.sql(\"SELECT Last_Update, SUM(Confirmed) FROM Covid19 GROUP BY Last_Update\").show()"
   ]
  },
  {
   "cell_type": "code",
   "execution_count": 18,
   "metadata": {},
   "outputs": [
    {
     "name": "stdout",
     "output_type": "stream",
     "text": [
      "+-------+------------------+\n",
      "|summary|         Recovered|\n",
      "+-------+------------------+\n",
      "|  count|            172472|\n",
      "|   mean|21174.652483842907|\n",
      "| stddev|116048.52433965524|\n",
      "|    min|            -12684|\n",
      "|    max|             99997|\n",
      "+-------+------------------+\n",
      "\n"
     ]
    }
   ],
   "source": [
    "# Recovered cases statistics \n",
    "df.describe('Recovered').show()\t\t"
   ]
  },
  {
   "cell_type": "code",
   "execution_count": 19,
   "metadata": {},
   "outputs": [
    {
     "name": "stdout",
     "output_type": "stream",
     "text": [
      "+-------+------------------+\n",
      "|summary|         Confirmed|\n",
      "+-------+------------------+\n",
      "|  count|            172480|\n",
      "|   mean| 33231.47196776438|\n",
      "| stddev|103134.91456888027|\n",
      "|    min|           -302844|\n",
      "|    max|           2290891|\n",
      "+-------+------------------+\n",
      "\n"
     ]
    }
   ],
   "source": [
    "# Confirmed cases statistics \n",
    "df.describe('Confirmed').show()\t\t"
   ]
  },
  {
   "cell_type": "code",
   "execution_count": 20,
   "metadata": {},
   "outputs": [
    {
     "name": "stdout",
     "output_type": "stream",
     "text": [
      "+-------+------------------+\n",
      "|summary|       Active_case|\n",
      "+-------+------------------+\n",
      "|  count|            171287|\n",
      "|   mean|11230.929632721689|\n",
      "| stddev|113334.45902630518|\n",
      "|    min|          -5624444|\n",
      "|    max|           2089529|\n",
      "+-------+------------------+\n",
      "\n"
     ]
    }
   ],
   "source": [
    "# Active case cases statistics \n",
    "df.describe('Active_case').show()\t\t"
   ]
  },
  {
   "cell_type": "code",
   "execution_count": 21,
   "metadata": {},
   "outputs": [
    {
     "name": "stdout",
     "output_type": "stream",
     "text": [
      "+-------+------------------+\n",
      "|summary|            Deaths|\n",
      "+-------+------------------+\n",
      "|  count|            172480|\n",
      "|   mean|1050.1350654019202|\n",
      "| stddev|3499.4945979988124|\n",
      "|    min|              -154|\n",
      "|    max|              9996|\n",
      "+-------+------------------+\n",
      "\n"
     ]
    }
   ],
   "source": [
    "# Deaths cases statistics \n",
    "df.describe('Deaths').show()\t\t"
   ]
  },
  {
   "cell_type": "code",
   "execution_count": 22,
   "metadata": {},
   "outputs": [
    {
     "data": {
      "text/plain": [
       "30810"
      ]
     },
     "execution_count": 22,
     "metadata": {},
     "output_type": "execute_result"
    }
   ],
   "source": [
    "#number of Covid Cases were Deaths > 1050.1350654019202(mean)\n",
    "df.filter(df.Deaths>1050.1350654019202).count()"
   ]
  },
  {
   "cell_type": "code",
   "execution_count": 23,
   "metadata": {},
   "outputs": [
    {
     "data": {
      "text/plain": [
       "56893"
      ]
     },
     "execution_count": 23,
     "metadata": {},
     "output_type": "execute_result"
    }
   ],
   "source": [
    "#number of Covid Cases were Active Cases > 11230.929632721689(mean)\n",
    "df.filter(df.Confirmed>11230.929632721689).count()"
   ]
  },
  {
   "cell_type": "code",
   "execution_count": 24,
   "metadata": {},
   "outputs": [
    {
     "name": "stdout",
     "output_type": "stream",
     "text": [
      "+---+---------------+---------+-------+---------------+---------+------+---------+-----------+\n",
      "|SNo|ObservationDate| Province|Country|    Last_Update|Confirmed|Deaths|Recovered|Active_case|\n",
      "+---+---------------+---------+-------+---------------+---------+------+---------+-----------+\n",
      "|  1|     01/22/2020|    Anhui|  China|1/22/2020 17:00|        1|     0|        0|          1|\n",
      "|  2|     01/22/2020|  Beijing|  China|1/22/2020 17:00|       14|     0|        0|         14|\n",
      "|  3|     01/22/2020|Chongqing|  China|1/22/2020 17:00|        6|     0|        0|          6|\n",
      "|  4|     01/22/2020|   Fujian|  China|1/22/2020 17:00|        1|     0|        0|          1|\n",
      "|  5|     01/22/2020|    Gansu|  China|1/22/2020 17:00|        0|     0|        0|          0|\n",
      "|  6|     01/22/2020|Guangdong|  China|1/22/2020 17:00|       26|     0|        0|         26|\n",
      "|  7|     01/22/2020|  Guangxi|  China|1/22/2020 17:00|        2|     0|        0|          2|\n",
      "|  8|     01/22/2020|  Guizhou|  China|1/22/2020 17:00|        1|     0|        0|          1|\n",
      "|  9|     01/22/2020|   Hainan|  China|1/22/2020 17:00|        4|     0|        0|          4|\n",
      "| 10|     01/22/2020|    Hebei|  China|1/22/2020 17:00|        1|     0|        0|          1|\n",
      "+---+---------------+---------+-------+---------------+---------+------+---------+-----------+\n",
      "only showing top 10 rows\n",
      "\n"
     ]
    }
   ],
   "source": [
    "#Covid Cases were Observation Date is in 2020\n",
    "df.filter(df[\"ObservationDate\"].endswith(\"2020\")).show(10)"
   ]
  },
  {
   "cell_type": "code",
   "execution_count": 25,
   "metadata": {},
   "outputs": [
    {
     "name": "stdout",
     "output_type": "stream",
     "text": [
      "+----+---------------+--------+-------+-------------------+---------+------+---------+-----------+\n",
      "| SNo|ObservationDate|Province|Country|        Last_Update|Confirmed|Deaths|Recovered|Active_case|\n",
      "+----+---------------+--------+-------+-------------------+---------+------+---------+-----------+\n",
      "|3376|     03/04/2020| Unknown|Tunisia|2020-03-04T01:33:07|        1|     0|        0|          1|\n",
      "|3544|     03/05/2020| Unknown|Tunisia|2020-03-04T01:33:07|        1|     0|        0|          1|\n",
      "|3733|     03/06/2020| Unknown|Tunisia|2020-03-04T01:33:07|        1|     0|        0|          1|\n",
      "|3948|     03/07/2020| Unknown|Tunisia|2020-03-04T01:33:07|        1|     0|        0|          1|\n",
      "|4149|     03/08/2020| Unknown|Tunisia|2020-03-08T21:13:10|        2|     0|        0|          2|\n",
      "|4413|     03/09/2020| Unknown|Tunisia|2020-03-08T21:13:10|        2|     0|        0|          2|\n",
      "|4652|     03/10/2020| Unknown|Tunisia|2020-03-10T05:13:07|        5|     0|        0|          5|\n",
      "|4859|     03/11/2020| Unknown|Tunisia|2020-03-11T18:52:03|        7|     0|        0|          7|\n",
      "|5081|     03/12/2020| Unknown|Tunisia|2020-03-11T18:52:03|        7|     0|        0|          7|\n",
      "|5324|     03/13/2020| Unknown|Tunisia|2020-03-11T20:00:00|       16|     0|        0|         16|\n",
      "+----+---------------+--------+-------+-------------------+---------+------+---------+-----------+\n",
      "only showing top 10 rows\n",
      "\n"
     ]
    }
   ],
   "source": [
    "#Covid Cases in Tunisia\n",
    "df.filter(df[\"Country\"].contains(\"Tunisia\")).show(10)"
   ]
  },
  {
   "cell_type": "code",
   "execution_count": 26,
   "metadata": {},
   "outputs": [
    {
     "name": "stdout",
     "output_type": "stream",
     "text": [
      "+---------+------------------+\n",
      "| Province|  avg(Active_case)|\n",
      "+---------+------------------+\n",
      "|     Utah|50439.606617647056|\n",
      "|Cajamarca|12685.005181347151|\n",
      "|  Antwerp|           65687.6|\n",
      "|   Hawaii| 5903.775735294118|\n",
      "|    Pasco|3445.2642487046633|\n",
      "+---------+------------------+\n",
      "only showing top 5 rows\n",
      "\n"
     ]
    }
   ],
   "source": [
    "#Display Covid cases Province where Active_case > mean \n",
    "df1=df.groupby('Province').agg({'Active_case': 'mean'}).show(5)"
   ]
  },
  {
   "cell_type": "code",
   "execution_count": 27,
   "metadata": {},
   "outputs": [
    {
     "name": "stdout",
     "output_type": "stream",
     "text": [
      "+------+---------------+--------+-------+-------------------+---------+------+---------+-----------+\n",
      "|   SNo|ObservationDate|Province|Country|        Last_Update|Confirmed|Deaths|Recovered|Active_case|\n",
      "+------+---------------+--------+-------+-------------------+---------+------+---------+-----------+\n",
      "|171877|     12/06/2020| Unknown|Tunisia|2020-12-07 05:26:14|   104002|  3561|    76441|      24000|\n",
      "+------+---------------+--------+-------+-------------------+---------+------+---------+-----------+\n",
      "\n"
     ]
    }
   ],
   "source": [
    "#display Covid Cases where Observation Date is \" 12/06/2020\" and Country is \"Tunisia\"\n",
    "df.filter(\"ObservationDate = '12/06/2020'\").filter(\"Country = 'Tunisia'\").show()"
   ]
  },
  {
   "cell_type": "code",
   "execution_count": 28,
   "metadata": {},
   "outputs": [
    {
     "name": "stdout",
     "output_type": "stream",
     "text": [
      "+------+---------------+--------------------+-------+-------------------+---------+------+---------+-----------+\n",
      "|   SNo|ObservationDate|            Province|Country|        Last_Update|Confirmed|Deaths|Recovered|Active_case|\n",
      "+------+---------------+--------------------+-------+-------------------+---------+------+---------+-----------+\n",
      "|171938|     12/06/2020|   Baden-Wurttemberg|Germany|2020-12-07 05:26:14|   166641|  3022|   120243|      43376|\n",
      "|171946|     12/06/2020|              Bayern|Germany|2020-12-07 05:26:14|   231896|  4325|   171004|      56567|\n",
      "|171949|     12/06/2020|              Berlin|Germany|2020-12-07 05:26:14|    71443|   683|    51095|      19665|\n",
      "|171957|     12/06/2020|         Brandenburg|Germany|2020-12-07 05:26:14|    23724|   458|    17368|       5898|\n",
      "|171958|     12/06/2020|              Bremen|Germany|2020-12-07 05:26:14|    10836|   137|     8936|       1763|\n",
      "|172072|     12/06/2020|             Hamburg|Germany|2020-12-07 05:26:14|    26855|   423|    19475|       6957|\n",
      "|172078|     12/06/2020|              Hessen|Germany|2020-12-07 05:26:14|    96637|  1478|    68981|      26178|\n",
      "|172196|     12/06/2020|Mecklenburg-Vorpo...|Germany|2020-12-07 05:26:14|     6783|    75|     5181|       1527|\n",
      "|172242|     12/06/2020|       Niedersachsen|Germany|2020-12-07 05:26:14|    77741|  1266|    63986|      12489|\n",
      "|172248|     12/06/2020| Nordrhein-Westfalen|Germany|2020-12-07 05:26:14|   287178|  3954|   219774|      63450|\n",
      "|172319|     12/06/2020|     Rheinland-Pfalz|Germany|2020-12-07 05:26:14|    49496|   674|    32233|      16589|\n",
      "|172330|     12/06/2020|            Saarland|Germany|2020-12-07 05:26:14|    14286|   303|    11611|       2372|\n",
      "|172331|     12/06/2020|             Sachsen|Germany|2020-12-07 05:26:14|    70168|  1292|    41260|      27616|\n",
      "|172332|     12/06/2020|      Sachsen-Anhalt|Germany|2020-12-07 05:26:14|    14951|   210|    10014|       4727|\n",
      "|172350|     12/06/2020|  Schleswig-Holstein|Germany|2020-12-07 05:26:14|    15781|   265|    12636|       2880|\n",
      "|172392|     12/06/2020|           Thuringen|Germany|2020-12-07 05:26:14|    20979|   424|    14488|       6067|\n",
      "|172419|     12/06/2020|             Unknown|Germany|2020-12-07 05:26:14|     9155|     0|        0|       9155|\n",
      "+------+---------------+--------------------+-------+-------------------+---------+------+---------+-----------+\n",
      "\n"
     ]
    }
   ],
   "source": [
    "#display Covid Cases where Observation Date is \" 12/06/2020\" and Country is \"Germany\"\n",
    "df.filter(\"ObservationDate = '12/06/2020'\").filter(\"Country = 'Germany'\").show()"
   ]
  },
  {
   "cell_type": "code",
   "execution_count": 29,
   "metadata": {},
   "outputs": [
    {
     "name": "stdout",
     "output_type": "stream",
     "text": [
      "+--------+-------+\n",
      "|Province|Country|\n",
      "+--------+-------+\n",
      "| Unknown| France|\n",
      "+--------+-------+\n",
      "only showing top 1 row\n",
      "\n"
     ]
    }
   ],
   "source": [
    "#Top Country with Most Confirmed Cases\n",
    "sqlContext.sql(\"SELECT Province, Country FROM Covid19 order by Confirmed DESC\").show(1)"
   ]
  },
  {
   "cell_type": "code",
   "execution_count": 30,
   "metadata": {},
   "outputs": [
    {
     "name": "stdout",
     "output_type": "stream",
     "text": [
      "+--------+-------+\n",
      "|Province|Country|\n",
      "+--------+-------+\n",
      "| Unknown| France|\n",
      "+--------+-------+\n",
      "only showing top 1 row\n",
      "\n"
     ]
    }
   ],
   "source": [
    "#Top Country with Most Active cases\n",
    "sqlContext.sql(\"SELECT Province, Country FROM Covid19 order by Active_case DESC\").show(1)"
   ]
  },
  {
   "cell_type": "code",
   "execution_count": 31,
   "metadata": {},
   "outputs": [
    {
     "name": "stdout",
     "output_type": "stream",
     "text": [
      "+--------+-------+\n",
      "|Province|Country|\n",
      "+--------+-------+\n",
      "| Unknown| France|\n",
      "+--------+-------+\n",
      "only showing top 1 row\n",
      "\n"
     ]
    }
   ],
   "source": [
    "#Top Country with Most Active cases\n",
    "sqlContext.sql(\"SELECT Province, Country FROM Covid19 order by Active_case DESC\").show(1)"
   ]
  },
  {
   "cell_type": "code",
   "execution_count": 32,
   "metadata": {},
   "outputs": [
    {
     "name": "stdout",
     "output_type": "stream",
     "text": [
      "+------------+--------------+\n",
      "|     Country|TotalConfirmed|\n",
      "+------------+--------------+\n",
      "|          US|    1281678282|\n",
      "|       India|     833624817|\n",
      "|      Brazil|     711618065|\n",
      "|      Russia|     224217320|\n",
      "|      France|     145444435|\n",
      "|       Spain|     141619421|\n",
      "|          UK|     123052469|\n",
      "|        Peru|     119805877|\n",
      "|    Colombia|     117658640|\n",
      "|      Mexico|     116314277|\n",
      "|   Argentina|     109897576|\n",
      "|       Italy|     103060174|\n",
      "|South Africa|      99773691|\n",
      "|        Iran|      89227101|\n",
      "|     Germany|      80081689|\n",
      "|       Chile|      77069030|\n",
      "|      Turkey|      63832582|\n",
      "|  Bangladesh|      56343725|\n",
      "|Saudi Arabia|      55809862|\n",
      "|    Pakistan|      55252882|\n",
      "+------------+--------------+\n",
      "only showing top 20 rows\n",
      "\n"
     ]
    }
   ],
   "source": [
    "#Print Total Confirmed Cases grouped by Countries and order by Active_case\n",
    "sqlContext.sql(\"SELECT Country, SUM(Confirmed) as TotalConfirmed FROM Covid19  GROUP BY Country order by TotalConfirmed DESC\").show()"
   ]
  },
  {
   "cell_type": "code",
   "execution_count": 33,
   "metadata": {},
   "outputs": [
    {
     "name": "stdout",
     "output_type": "stream",
     "text": [
      "+--------+-------+---------+\n",
      "|Province|Country|Confirmed|\n",
      "+--------+-------+---------+\n",
      "| Unknown| France|  2290891|\n",
      "| Unknown| France|  2279869|\n",
      "| Unknown| France|  2267019|\n",
      "| Unknown| France|  2255912|\n",
      "| Unknown| France|  2243251|\n",
      "+--------+-------+---------+\n",
      "only showing top 5 rows\n",
      "\n"
     ]
    }
   ],
   "source": [
    "#top 5 Province-Country where Confirmed > 2000000\n",
    "sqlContext.sql(\"SELECT  Province,Country,Confirmed from Covid19 where Confirmed>2000000 order by Confirmed  DESC\").show(5)"
   ]
  },
  {
   "cell_type": "code",
   "execution_count": 34,
   "metadata": {},
   "outputs": [
    {
     "name": "stdout",
     "output_type": "stream",
     "text": [
      "+--------+-------+------+\n",
      "|Province|Country|Deaths|\n",
      "+--------+-------+------+\n",
      "| Unknown| France| 54804|\n",
      "| Unknown| France| 54630|\n",
      "| Unknown| France| 54416|\n",
      "| Unknown| France| 53791|\n",
      "| England|     UK| 53570|\n",
      "+--------+-------+------+\n",
      "\n"
     ]
    }
   ],
   "source": [
    "#top 5 Province-Country where Deaths > 50000\n",
    "sqlContext.sql(\"SELECT  Province,Country,Deaths from Covid19 where Deaths>50000 order by Deaths DESC\").limit(5).show()"
   ]
  },
  {
   "cell_type": "code",
   "execution_count": 35,
   "metadata": {},
   "outputs": [
    {
     "data": {
      "text/plain": [
       "DataFrame[Country: string, sum(Confirmed): bigint]"
      ]
     },
     "metadata": {},
     "output_type": "display_data"
    }
   ],
   "source": [
    "df_cat_sum = df.groupby(\"Country\").agg({'Confirmed': \"sum\"})\n",
    "display(df_cat_sum)"
   ]
  },
  {
   "cell_type": "markdown",
   "metadata": {},
   "source": [
    "#  Charts : Covid19\n"
   ]
  },
  {
   "cell_type": "code",
   "execution_count": 36,
   "metadata": {},
   "outputs": [
    {
     "name": "stdout",
     "output_type": "stream",
     "text": [
      "+-------+--------------+\n",
      "|Country|TotalConfirmed|\n",
      "+-------+--------------+\n",
      "|     US|    1281678282|\n",
      "|  India|     833624817|\n",
      "| Brazil|     711618065|\n",
      "| Russia|     224217320|\n",
      "| France|     145444435|\n",
      "+-------+--------------+\n",
      "\n"
     ]
    },
    {
     "data": {
      "image/png": "[encoded data removed]",
      "text/plain": [
       "<Figure size 432x288 with 1 Axes>"
      ]
     },
     "metadata": {},
     "output_type": "display_data"
    }
   ],
   "source": [
    "\n",
    "# Total Confirmed Cases grouped by Countries and order by Active_case\n",
    "\n",
    "sqlContext.registerDataFrameAsTable(df, \"data_table\")\n",
    "\n",
    "#df1=sqlContext.sql(\"SELECT Recovered,Deaths from Covid19 order by Deaths DESC\").limit(10)\n",
    "\n",
    "df1=sqlContext.sql(\"SELECT Country, SUM(Confirmed) as TotalConfirmed FROM Covid19  GROUP BY Country order by TotalConfirmed DESC\").limit(5)\n",
    "\n",
    "pdf1=df1.toPandas()\n",
    "\n",
    "\n",
    "plt.style.use('ggplot')\n",
    "\n",
    "pdf1.groupby(['Country', 'TotalConfirmed'])\\\n",
    "      .TotalConfirmed.count().unstack().plot.bar(legend=True, stacked=True)\n",
    "df1.show()\n",
    "plt.show()\n",
    "\n"
   ]
  },
  {
   "cell_type": "code",
   "execution_count": 37,
   "metadata": {},
   "outputs": [
    {
     "name": "stdout",
     "output_type": "stream",
     "text": [
      "+------------+------------------+------------------+\n",
      "|     Country|       Mean_Deaths|    Mean_Confirmed|\n",
      "+------------+------------------+------------------+\n",
      "|   Argentina| 9896.408602150537| 393898.1218637993|\n",
      "|South Africa| 8476.115523465704|360193.83032490977|\n",
      "|        Iran|16748.715753424658|305572.26369863015|\n",
      "|      Turkey| 5962.446494464944|235544.58302583024|\n",
      "|  Bangladesh| 2875.784671532847|205634.03284671533|\n",
      "+------------+------------------+------------------+\n",
      "\n"
     ]
    },
    {
     "data": {
      "image/png": "[encoded data removed]",
      "text/plain": [
       "<Figure size 432x288 with 1 Axes>"
      ]
     },
     "metadata": {},
     "output_type": "display_data"
    }
   ],
   "source": [
    "# Total Confirmed Cases grouped by Countries and order by Active_case\n",
    "\n",
    "sqlContext.registerDataFrameAsTable(df, \"data_table\")\n",
    "\n",
    "#df1=sqlContext.sql(\"SELECT Recovered,Deaths from Covid19 order by Deaths DESC\").limit(10)\n",
    "\n",
    "df1=sqlContext.sql(\"SELECT Country, MEAN(Deaths) as Mean_Deaths, MEAN(Confirmed) as Mean_Confirmed FROM Covid19  GROUP BY Country order by Mean_Confirmed DESC\").limit(5)\n",
    "\n",
    "pdf1=df1.toPandas()\n",
    "\n",
    "df1.show()\n",
    "plt.style.use('ggplot')\n",
    "\n",
    "pdf1.groupby(['Mean_Deaths', 'Mean_Confirmed'])\\\n",
    "      .Mean_Confirmed.count().unstack().plot.area()\n",
    "\n",
    "plt.show()"
   ]
  },
  {
   "cell_type": "code",
   "execution_count": 38,
   "metadata": {},
   "outputs": [
    {
     "name": "stdout",
     "output_type": "stream",
     "text": [
      "+------------+------------------+------------------+\n",
      "|     Country|       Mean_Deaths|    Mean_Confirmed|\n",
      "+------------+------------------+------------------+\n",
      "|   Argentina| 9896.408602150537| 393898.1218637993|\n",
      "|South Africa| 8476.115523465704|360193.83032490977|\n",
      "|        Iran|16748.715753424658|305572.26369863015|\n",
      "|      Turkey| 5962.446494464944|235544.58302583024|\n",
      "|  Bangladesh| 2875.784671532847|205634.03284671533|\n",
      "+------------+------------------+------------------+\n",
      "\n"
     ]
    },
    {
     "ename": "ValueError",
     "evalue": "`dataset` input should have multiple elements.",
     "output_type": "error",
     "traceback": [
      "\u001b[0;31m---------------------------------------------------------------------------\u001b[0m",
      "\u001b[0;31mValueError\u001b[0m                                Traceback (most recent call last)",
      "\u001b[0;32m<ipython-input-38-de9efc6a3f77>\u001b[0m in \u001b[0;36m<module>\u001b[0;34m\u001b[0m\n\u001b[1;32m     12\u001b[0m \u001b[0mplt\u001b[0m\u001b[0;34m.\u001b[0m\u001b[0mstyle\u001b[0m\u001b[0;34m.\u001b[0m\u001b[0muse\u001b[0m\u001b[0;34m(\u001b[0m\u001b[0;34m'ggplot'\u001b[0m\u001b[0;34m)\u001b[0m\u001b[0;34m\u001b[0m\u001b[0;34m\u001b[0m\u001b[0m\n\u001b[1;32m     13\u001b[0m \u001b[0;34m\u001b[0m\u001b[0m\n\u001b[0;32m---> 14\u001b[0;31m \u001b[0mpdf1\u001b[0m\u001b[0;34m.\u001b[0m\u001b[0mgroupby\u001b[0m\u001b[0;34m(\u001b[0m\u001b[0;34m[\u001b[0m\u001b[0;34m'Mean_Deaths'\u001b[0m\u001b[0;34m,\u001b[0m \u001b[0;34m'Mean_Confirmed'\u001b[0m\u001b[0;34m]\u001b[0m\u001b[0;34m)\u001b[0m\u001b[0;31m\\\u001b[0m\u001b[0;34m\u001b[0m\u001b[0;34m\u001b[0m\u001b[0m\n\u001b[0m\u001b[1;32m     15\u001b[0m       \u001b[0;34m.\u001b[0m\u001b[0mMean_Confirmed\u001b[0m\u001b[0;34m.\u001b[0m\u001b[0mcount\u001b[0m\u001b[0;34m(\u001b[0m\u001b[0;34m)\u001b[0m\u001b[0;34m.\u001b[0m\u001b[0munstack\u001b[0m\u001b[0;34m(\u001b[0m\u001b[0;34m)\u001b[0m\u001b[0;34m.\u001b[0m\u001b[0mplot\u001b[0m\u001b[0;34m.\u001b[0m\u001b[0mkde\u001b[0m\u001b[0;34m(\u001b[0m\u001b[0;34m)\u001b[0m\u001b[0;34m\u001b[0m\u001b[0;34m\u001b[0m\u001b[0m\n\u001b[1;32m     16\u001b[0m \u001b[0;34m\u001b[0m\u001b[0m\n",
      "\u001b[0;32m/usr/lib/python3.9/site-packages/pandas/plotting/_core.py\u001b[0m in \u001b[0;36mkde\u001b[0;34m(self, bw_method, ind, **kwargs)\u001b[0m\n\u001b[1;32m   1402\u001b[0m             \u001b[0;34m>>\u001b[0m\u001b[0;34m>\u001b[0m \u001b[0max\u001b[0m \u001b[0;34m=\u001b[0m \u001b[0mdf\u001b[0m\u001b[0;34m.\u001b[0m\u001b[0mplot\u001b[0m\u001b[0;34m.\u001b[0m\u001b[0mkde\u001b[0m\u001b[0;34m(\u001b[0m\u001b[0mind\u001b[0m\u001b[0;34m=\u001b[0m\u001b[0;34m[\u001b[0m\u001b[0;36m1\u001b[0m\u001b[0;34m,\u001b[0m \u001b[0;36m2\u001b[0m\u001b[0;34m,\u001b[0m \u001b[0;36m3\u001b[0m\u001b[0;34m,\u001b[0m \u001b[0;36m4\u001b[0m\u001b[0;34m,\u001b[0m \u001b[0;36m5\u001b[0m\u001b[0;34m,\u001b[0m \u001b[0;36m6\u001b[0m\u001b[0;34m]\u001b[0m\u001b[0;34m)\u001b[0m\u001b[0;34m\u001b[0m\u001b[0;34m\u001b[0m\u001b[0m\n\u001b[1;32m   1403\u001b[0m         \"\"\"\n\u001b[0;32m-> 1404\u001b[0;31m         \u001b[0;32mreturn\u001b[0m \u001b[0mself\u001b[0m\u001b[0;34m(\u001b[0m\u001b[0mkind\u001b[0m\u001b[0;34m=\u001b[0m\u001b[0;34m\"kde\"\u001b[0m\u001b[0;34m,\u001b[0m \u001b[0mbw_method\u001b[0m\u001b[0;34m=\u001b[0m\u001b[0mbw_method\u001b[0m\u001b[0;34m,\u001b[0m \u001b[0mind\u001b[0m\u001b[0;34m=\u001b[0m\u001b[0mind\u001b[0m\u001b[0;34m,\u001b[0m \u001b[0;34m**\u001b[0m\u001b[0mkwargs\u001b[0m\u001b[0;34m)\u001b[0m\u001b[0;34m\u001b[0m\u001b[0;34m\u001b[0m\u001b[0m\n\u001b[0m\u001b[1;32m   1405\u001b[0m \u001b[0;34m\u001b[0m\u001b[0m\n\u001b[1;32m   1406\u001b[0m     \u001b[0mdensity\u001b[0m \u001b[0;34m=\u001b[0m \u001b[0mkde\u001b[0m\u001b[0;34m\u001b[0m\u001b[0;34m\u001b[0m\u001b[0m\n",
      "\u001b[0;32m/usr/lib/python3.9/site-packages/pandas/plotting/_core.py\u001b[0m in \u001b[0;36m__call__\u001b[0;34m(self, *args, **kwargs)\u001b[0m\n\u001b[1;32m    953\u001b[0m                     \u001b[0mdata\u001b[0m\u001b[0;34m.\u001b[0m\u001b[0mcolumns\u001b[0m \u001b[0;34m=\u001b[0m \u001b[0mlabel_name\u001b[0m\u001b[0;34m\u001b[0m\u001b[0;34m\u001b[0m\u001b[0m\n\u001b[1;32m    954\u001b[0m \u001b[0;34m\u001b[0m\u001b[0m\n\u001b[0;32m--> 955\u001b[0;31m         \u001b[0;32mreturn\u001b[0m \u001b[0mplot_backend\u001b[0m\u001b[0;34m.\u001b[0m\u001b[0mplot\u001b[0m\u001b[0;34m(\u001b[0m\u001b[0mdata\u001b[0m\u001b[0;34m,\u001b[0m \u001b[0mkind\u001b[0m\u001b[0;34m=\u001b[0m\u001b[0mkind\u001b[0m\u001b[0;34m,\u001b[0m \u001b[0;34m**\u001b[0m\u001b[0mkwargs\u001b[0m\u001b[0;34m)\u001b[0m\u001b[0;34m\u001b[0m\u001b[0;34m\u001b[0m\u001b[0m\n\u001b[0m\u001b[1;32m    956\u001b[0m \u001b[0;34m\u001b[0m\u001b[0m\n\u001b[1;32m    957\u001b[0m     \u001b[0m__call__\u001b[0m\u001b[0;34m.\u001b[0m\u001b[0m__doc__\u001b[0m \u001b[0;34m=\u001b[0m \u001b[0m__doc__\u001b[0m\u001b[0;34m\u001b[0m\u001b[0;34m\u001b[0m\u001b[0m\n",
      "\u001b[0;32m/usr/lib/python3.9/site-packages/pandas/plotting/_matplotlib/__init__.py\u001b[0m in \u001b[0;36mplot\u001b[0;34m(data, kind, **kwargs)\u001b[0m\n\u001b[1;32m     59\u001b[0m             \u001b[0mkwargs\u001b[0m\u001b[0;34m[\u001b[0m\u001b[0;34m\"ax\"\u001b[0m\u001b[0;34m]\u001b[0m \u001b[0;34m=\u001b[0m \u001b[0mgetattr\u001b[0m\u001b[0;34m(\u001b[0m\u001b[0max\u001b[0m\u001b[0;34m,\u001b[0m \u001b[0;34m\"left_ax\"\u001b[0m\u001b[0;34m,\u001b[0m \u001b[0max\u001b[0m\u001b[0;34m)\u001b[0m\u001b[0;34m\u001b[0m\u001b[0;34m\u001b[0m\u001b[0m\n\u001b[1;32m     60\u001b[0m     \u001b[0mplot_obj\u001b[0m \u001b[0;34m=\u001b[0m \u001b[0mPLOT_CLASSES\u001b[0m\u001b[0;34m[\u001b[0m\u001b[0mkind\u001b[0m\u001b[0;34m]\u001b[0m\u001b[0;34m(\u001b[0m\u001b[0mdata\u001b[0m\u001b[0;34m,\u001b[0m \u001b[0;34m**\u001b[0m\u001b[0mkwargs\u001b[0m\u001b[0;34m)\u001b[0m\u001b[0;34m\u001b[0m\u001b[0;34m\u001b[0m\u001b[0m\n\u001b[0;32m---> 61\u001b[0;31m     \u001b[0mplot_obj\u001b[0m\u001b[0;34m.\u001b[0m\u001b[0mgenerate\u001b[0m\u001b[0;34m(\u001b[0m\u001b[0;34m)\u001b[0m\u001b[0;34m\u001b[0m\u001b[0;34m\u001b[0m\u001b[0m\n\u001b[0m\u001b[1;32m     62\u001b[0m     \u001b[0mplot_obj\u001b[0m\u001b[0;34m.\u001b[0m\u001b[0mdraw\u001b[0m\u001b[0;34m(\u001b[0m\u001b[0;34m)\u001b[0m\u001b[0;34m\u001b[0m\u001b[0;34m\u001b[0m\u001b[0m\n\u001b[1;32m     63\u001b[0m     \u001b[0;32mreturn\u001b[0m \u001b[0mplot_obj\u001b[0m\u001b[0;34m.\u001b[0m\u001b[0mresult\u001b[0m\u001b[0;34m\u001b[0m\u001b[0;34m\u001b[0m\u001b[0m\n",
      "\u001b[0;32m/usr/lib/python3.9/site-packages/pandas/plotting/_matplotlib/core.py\u001b[0m in \u001b[0;36mgenerate\u001b[0;34m(self)\u001b[0m\n\u001b[1;32m    278\u001b[0m         \u001b[0mself\u001b[0m\u001b[0;34m.\u001b[0m\u001b[0m_compute_plot_data\u001b[0m\u001b[0;34m(\u001b[0m\u001b[0;34m)\u001b[0m\u001b[0;34m\u001b[0m\u001b[0;34m\u001b[0m\u001b[0m\n\u001b[1;32m    279\u001b[0m         \u001b[0mself\u001b[0m\u001b[0;34m.\u001b[0m\u001b[0m_setup_subplots\u001b[0m\u001b[0;34m(\u001b[0m\u001b[0;34m)\u001b[0m\u001b[0;34m\u001b[0m\u001b[0;34m\u001b[0m\u001b[0m\n\u001b[0;32m--> 280\u001b[0;31m         \u001b[0mself\u001b[0m\u001b[0;34m.\u001b[0m\u001b[0m_make_plot\u001b[0m\u001b[0;34m(\u001b[0m\u001b[0;34m)\u001b[0m\u001b[0;34m\u001b[0m\u001b[0;34m\u001b[0m\u001b[0m\n\u001b[0m\u001b[1;32m    281\u001b[0m         \u001b[0mself\u001b[0m\u001b[0;34m.\u001b[0m\u001b[0m_add_table\u001b[0m\u001b[0;34m(\u001b[0m\u001b[0;34m)\u001b[0m\u001b[0;34m\u001b[0m\u001b[0;34m\u001b[0m\u001b[0m\n\u001b[1;32m    282\u001b[0m         \u001b[0mself\u001b[0m\u001b[0;34m.\u001b[0m\u001b[0m_make_legend\u001b[0m\u001b[0;34m(\u001b[0m\u001b[0;34m)\u001b[0m\u001b[0;34m\u001b[0m\u001b[0;34m\u001b[0m\u001b[0m\n",
      "\u001b[0;32m/usr/lib/python3.9/site-packages/pandas/plotting/_matplotlib/hist.py\u001b[0m in \u001b[0;36m_make_plot\u001b[0;34m(self)\u001b[0m\n\u001b[1;32m     90\u001b[0m                 \u001b[0mkwds\u001b[0m\u001b[0;34m[\u001b[0m\u001b[0;34m\"weights\"\u001b[0m\u001b[0;34m]\u001b[0m \u001b[0;34m=\u001b[0m \u001b[0mweights\u001b[0m\u001b[0;34m[\u001b[0m\u001b[0;34m:\u001b[0m\u001b[0;34m,\u001b[0m \u001b[0mi\u001b[0m\u001b[0;34m]\u001b[0m\u001b[0;34m\u001b[0m\u001b[0;34m\u001b[0m\u001b[0m\n\u001b[1;32m     91\u001b[0m \u001b[0;34m\u001b[0m\u001b[0m\n\u001b[0;32m---> 92\u001b[0;31m             \u001b[0martists\u001b[0m \u001b[0;34m=\u001b[0m \u001b[0mself\u001b[0m\u001b[0;34m.\u001b[0m\u001b[0m_plot\u001b[0m\u001b[0;34m(\u001b[0m\u001b[0max\u001b[0m\u001b[0;34m,\u001b[0m \u001b[0my\u001b[0m\u001b[0;34m,\u001b[0m \u001b[0mcolumn_num\u001b[0m\u001b[0;34m=\u001b[0m\u001b[0mi\u001b[0m\u001b[0;34m,\u001b[0m \u001b[0mstacking_id\u001b[0m\u001b[0;34m=\u001b[0m\u001b[0mstacking_id\u001b[0m\u001b[0;34m,\u001b[0m \u001b[0;34m**\u001b[0m\u001b[0mkwds\u001b[0m\u001b[0;34m)\u001b[0m\u001b[0;34m\u001b[0m\u001b[0;34m\u001b[0m\u001b[0m\n\u001b[0m\u001b[1;32m     93\u001b[0m             \u001b[0mself\u001b[0m\u001b[0;34m.\u001b[0m\u001b[0m_add_legend_handle\u001b[0m\u001b[0;34m(\u001b[0m\u001b[0martists\u001b[0m\u001b[0;34m[\u001b[0m\u001b[0;36m0\u001b[0m\u001b[0;34m]\u001b[0m\u001b[0;34m,\u001b[0m \u001b[0mlabel\u001b[0m\u001b[0;34m,\u001b[0m \u001b[0mindex\u001b[0m\u001b[0;34m=\u001b[0m\u001b[0mi\u001b[0m\u001b[0;34m)\u001b[0m\u001b[0;34m\u001b[0m\u001b[0;34m\u001b[0m\u001b[0m\n\u001b[1;32m     94\u001b[0m \u001b[0;34m\u001b[0m\u001b[0m\n",
      "\u001b[0;32m/usr/lib/python3.9/site-packages/pandas/plotting/_matplotlib/hist.py\u001b[0m in \u001b[0;36m_plot\u001b[0;34m(cls, ax, y, style, bw_method, ind, column_num, stacking_id, **kwds)\u001b[0m\n\u001b[1;32m    161\u001b[0m \u001b[0;34m\u001b[0m\u001b[0m\n\u001b[1;32m    162\u001b[0m         \u001b[0my\u001b[0m \u001b[0;34m=\u001b[0m \u001b[0mremove_na_arraylike\u001b[0m\u001b[0;34m(\u001b[0m\u001b[0my\u001b[0m\u001b[0;34m)\u001b[0m\u001b[0;34m\u001b[0m\u001b[0;34m\u001b[0m\u001b[0m\n\u001b[0;32m--> 163\u001b[0;31m         \u001b[0mgkde\u001b[0m \u001b[0;34m=\u001b[0m \u001b[0mgaussian_kde\u001b[0m\u001b[0;34m(\u001b[0m\u001b[0my\u001b[0m\u001b[0;34m,\u001b[0m \u001b[0mbw_method\u001b[0m\u001b[0;34m=\u001b[0m\u001b[0mbw_method\u001b[0m\u001b[0;34m)\u001b[0m\u001b[0;34m\u001b[0m\u001b[0;34m\u001b[0m\u001b[0m\n\u001b[0m\u001b[1;32m    164\u001b[0m \u001b[0;34m\u001b[0m\u001b[0m\n\u001b[1;32m    165\u001b[0m         \u001b[0my\u001b[0m \u001b[0;34m=\u001b[0m \u001b[0mgkde\u001b[0m\u001b[0;34m.\u001b[0m\u001b[0mevaluate\u001b[0m\u001b[0;34m(\u001b[0m\u001b[0mind\u001b[0m\u001b[0;34m)\u001b[0m\u001b[0;34m\u001b[0m\u001b[0;34m\u001b[0m\u001b[0m\n",
      "\u001b[0;32m/usr/lib/python3.9/site-packages/scipy/stats/kde.py\u001b[0m in \u001b[0;36m__init__\u001b[0;34m(self, dataset, bw_method, weights)\u001b[0m\n\u001b[1;32m    191\u001b[0m         \u001b[0mself\u001b[0m\u001b[0;34m.\u001b[0m\u001b[0mdataset\u001b[0m \u001b[0;34m=\u001b[0m \u001b[0matleast_2d\u001b[0m\u001b[0;34m(\u001b[0m\u001b[0masarray\u001b[0m\u001b[0;34m(\u001b[0m\u001b[0mdataset\u001b[0m\u001b[0;34m)\u001b[0m\u001b[0;34m)\u001b[0m\u001b[0;34m\u001b[0m\u001b[0;34m\u001b[0m\u001b[0m\n\u001b[1;32m    192\u001b[0m         \u001b[0;32mif\u001b[0m \u001b[0;32mnot\u001b[0m \u001b[0mself\u001b[0m\u001b[0;34m.\u001b[0m\u001b[0mdataset\u001b[0m\u001b[0;34m.\u001b[0m\u001b[0msize\u001b[0m \u001b[0;34m>\u001b[0m \u001b[0;36m1\u001b[0m\u001b[0;34m:\u001b[0m\u001b[0;34m\u001b[0m\u001b[0;34m\u001b[0m\u001b[0m\n\u001b[0;32m--> 193\u001b[0;31m             \u001b[0;32mraise\u001b[0m \u001b[0mValueError\u001b[0m\u001b[0;34m(\u001b[0m\u001b[0;34m\"`dataset` input should have multiple elements.\"\u001b[0m\u001b[0;34m)\u001b[0m\u001b[0;34m\u001b[0m\u001b[0;34m\u001b[0m\u001b[0m\n\u001b[0m\u001b[1;32m    194\u001b[0m \u001b[0;34m\u001b[0m\u001b[0m\n\u001b[1;32m    195\u001b[0m         \u001b[0mself\u001b[0m\u001b[0;34m.\u001b[0m\u001b[0md\u001b[0m\u001b[0;34m,\u001b[0m \u001b[0mself\u001b[0m\u001b[0;34m.\u001b[0m\u001b[0mn\u001b[0m \u001b[0;34m=\u001b[0m \u001b[0mself\u001b[0m\u001b[0;34m.\u001b[0m\u001b[0mdataset\u001b[0m\u001b[0;34m.\u001b[0m\u001b[0mshape\u001b[0m\u001b[0;34m\u001b[0m\u001b[0;34m\u001b[0m\u001b[0m\n",
      "\u001b[0;31mValueError\u001b[0m: `dataset` input should have multiple elements."
     ]
    },
    {
     "data": {
      "image/png": "[encoded data removed]",
      "text/plain": [
       "<Figure size 432x288 with 1 Axes>"
      ]
     },
     "metadata": {},
     "output_type": "display_data"
    }
   ],
   "source": [
    "# Total Confirmed Cases grouped by Countries and order by Active_case\n",
    "\n",
    "sqlContext.registerDataFrameAsTable(df, \"data_table\")\n",
    "\n",
    "#df1=sqlContext.sql(\"SELECT Recovered,Deaths from Covid19 order by Deaths DESC\").limit(10)\n",
    "\n",
    "df1=sqlContext.sql(\"SELECT Country, MEAN(Deaths) as Mean_Deaths, MEAN(Confirmed) as Mean_Confirmed FROM Covid19  GROUP BY Country order by Mean_Confirmed DESC\").limit(5)\n",
    "\n",
    "pdf1=df1.toPandas()\n",
    "\n",
    "df1.show()\n",
    "plt.style.use('ggplot')\n",
    "\n",
    "pdf1.groupby(['Mean_Deaths', 'Mean_Confirmed'])\\\n",
    "      .Mean_Confirmed.count().unstack().plot.kde()\n",
    "\n",
    "plt.show()"
   ]
  },
  {
   "cell_type": "code",
   "execution_count": null,
   "metadata": {},
   "outputs": [],
   "source": []
  }
 ],
 "metadata": {
  "kernelspec": {
   "display_name": "Python 3",
   "language": "python",
   "name": "python3"
  },
  "language_info": {
   "codemirror_mode": {
    "name": "ipython",
    "version": 3
   },
   "file_extension": ".py",
   "mimetype": "text/x-python",
   "name": "python",
   "nbconvert_exporter": "python",
   "pygments_lexer": "ipython3",
   "version": "3.8.3"
  }
 },
 "nbformat": 4,
 "nbformat_minor": 4
}
